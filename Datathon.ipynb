{
 "cells": [
  {
   "cell_type": "markdown",
   "metadata": {},
   "source": [
    "    Importamos las librerias necesarias para la resolución del Datathon."
   ]
  },
  {
   "cell_type": "code",
   "execution_count": 49,
   "metadata": {},
   "outputs": [],
   "source": [
    "import pandas as pd\n",
    "import numpy as np\n",
    "import matplotlib.pyplot as plt\n",
    "import seaborn as sns\n",
    "from scipy.stats import chi2_contingency\n",
    "from sklearn.model_selection import train_test_split\n",
    "from sklearn.preprocessing import MinMaxScaler"
   ]
  },
  {
   "cell_type": "markdown",
   "metadata": {},
   "source": [
    "    Ingestamos el Dataset para el entrenamiento del modelo."
   ]
  },
  {
   "cell_type": "code",
   "execution_count": 50,
   "metadata": {},
   "outputs": [
    {
     "data": {
      "text/html": [
       "<div>\n",
       "<style scoped>\n",
       "    .dataframe tbody tr th:only-of-type {\n",
       "        vertical-align: middle;\n",
       "    }\n",
       "\n",
       "    .dataframe tbody tr th {\n",
       "        vertical-align: top;\n",
       "    }\n",
       "\n",
       "    .dataframe thead th {\n",
       "        text-align: right;\n",
       "    }\n",
       "</style>\n",
       "<table border=\"1\" class=\"dataframe\">\n",
       "  <thead>\n",
       "    <tr style=\"text-align: right;\">\n",
       "      <th></th>\n",
       "      <th>ID</th>\n",
       "      <th>Warehouse_block</th>\n",
       "      <th>Mode_of_Shipment</th>\n",
       "      <th>Customer_care_calls</th>\n",
       "      <th>Customer_rating</th>\n",
       "      <th>Cost_of_the_Product</th>\n",
       "      <th>Prior_purchases</th>\n",
       "      <th>Product_importance</th>\n",
       "      <th>Gender</th>\n",
       "      <th>Discount_offered</th>\n",
       "      <th>Weight_in_gms</th>\n",
       "      <th>Reached.on.Time_Y.N</th>\n",
       "    </tr>\n",
       "  </thead>\n",
       "  <tbody>\n",
       "    <tr>\n",
       "      <th>0</th>\n",
       "      <td>1</td>\n",
       "      <td>D</td>\n",
       "      <td>Flight</td>\n",
       "      <td>4</td>\n",
       "      <td>2</td>\n",
       "      <td>177</td>\n",
       "      <td>3</td>\n",
       "      <td>low</td>\n",
       "      <td>F</td>\n",
       "      <td>44</td>\n",
       "      <td>1233</td>\n",
       "      <td>1</td>\n",
       "    </tr>\n",
       "    <tr>\n",
       "      <th>1</th>\n",
       "      <td>2</td>\n",
       "      <td>F</td>\n",
       "      <td>Flight</td>\n",
       "      <td>4</td>\n",
       "      <td>5</td>\n",
       "      <td>216</td>\n",
       "      <td>2</td>\n",
       "      <td>low</td>\n",
       "      <td>M</td>\n",
       "      <td>59</td>\n",
       "      <td>3088</td>\n",
       "      <td>1</td>\n",
       "    </tr>\n",
       "    <tr>\n",
       "      <th>2</th>\n",
       "      <td>3</td>\n",
       "      <td>A</td>\n",
       "      <td>Flight</td>\n",
       "      <td>2</td>\n",
       "      <td>2</td>\n",
       "      <td>183</td>\n",
       "      <td>4</td>\n",
       "      <td>low</td>\n",
       "      <td>M</td>\n",
       "      <td>48</td>\n",
       "      <td>3374</td>\n",
       "      <td>1</td>\n",
       "    </tr>\n",
       "    <tr>\n",
       "      <th>3</th>\n",
       "      <td>4</td>\n",
       "      <td>B</td>\n",
       "      <td>Flight</td>\n",
       "      <td>3</td>\n",
       "      <td>3</td>\n",
       "      <td>176</td>\n",
       "      <td>4</td>\n",
       "      <td>medium</td>\n",
       "      <td>M</td>\n",
       "      <td>10</td>\n",
       "      <td>1177</td>\n",
       "      <td>1</td>\n",
       "    </tr>\n",
       "    <tr>\n",
       "      <th>4</th>\n",
       "      <td>5</td>\n",
       "      <td>C</td>\n",
       "      <td>Flight</td>\n",
       "      <td>2</td>\n",
       "      <td>2</td>\n",
       "      <td>184</td>\n",
       "      <td>3</td>\n",
       "      <td>medium</td>\n",
       "      <td>F</td>\n",
       "      <td>46</td>\n",
       "      <td>2484</td>\n",
       "      <td>1</td>\n",
       "    </tr>\n",
       "    <tr>\n",
       "      <th>...</th>\n",
       "      <td>...</td>\n",
       "      <td>...</td>\n",
       "      <td>...</td>\n",
       "      <td>...</td>\n",
       "      <td>...</td>\n",
       "      <td>...</td>\n",
       "      <td>...</td>\n",
       "      <td>...</td>\n",
       "      <td>...</td>\n",
       "      <td>...</td>\n",
       "      <td>...</td>\n",
       "      <td>...</td>\n",
       "    </tr>\n",
       "    <tr>\n",
       "      <th>8994</th>\n",
       "      <td>8995</td>\n",
       "      <td>D</td>\n",
       "      <td>Ship</td>\n",
       "      <td>3</td>\n",
       "      <td>1</td>\n",
       "      <td>217</td>\n",
       "      <td>3</td>\n",
       "      <td>low</td>\n",
       "      <td>F</td>\n",
       "      <td>1</td>\n",
       "      <td>4177</td>\n",
       "      <td>1</td>\n",
       "    </tr>\n",
       "    <tr>\n",
       "      <th>8995</th>\n",
       "      <td>8996</td>\n",
       "      <td>F</td>\n",
       "      <td>Ship</td>\n",
       "      <td>5</td>\n",
       "      <td>3</td>\n",
       "      <td>232</td>\n",
       "      <td>3</td>\n",
       "      <td>medium</td>\n",
       "      <td>M</td>\n",
       "      <td>3</td>\n",
       "      <td>4526</td>\n",
       "      <td>0</td>\n",
       "    </tr>\n",
       "    <tr>\n",
       "      <th>8996</th>\n",
       "      <td>8997</td>\n",
       "      <td>A</td>\n",
       "      <td>Ship</td>\n",
       "      <td>4</td>\n",
       "      <td>5</td>\n",
       "      <td>260</td>\n",
       "      <td>3</td>\n",
       "      <td>medium</td>\n",
       "      <td>F</td>\n",
       "      <td>6</td>\n",
       "      <td>4221</td>\n",
       "      <td>0</td>\n",
       "    </tr>\n",
       "    <tr>\n",
       "      <th>8997</th>\n",
       "      <td>8998</td>\n",
       "      <td>B</td>\n",
       "      <td>Ship</td>\n",
       "      <td>4</td>\n",
       "      <td>2</td>\n",
       "      <td>184</td>\n",
       "      <td>3</td>\n",
       "      <td>medium</td>\n",
       "      <td>F</td>\n",
       "      <td>5</td>\n",
       "      <td>5931</td>\n",
       "      <td>1</td>\n",
       "    </tr>\n",
       "    <tr>\n",
       "      <th>8998</th>\n",
       "      <td>8999</td>\n",
       "      <td>C</td>\n",
       "      <td>Ship</td>\n",
       "      <td>5</td>\n",
       "      <td>4</td>\n",
       "      <td>145</td>\n",
       "      <td>4</td>\n",
       "      <td>low</td>\n",
       "      <td>M</td>\n",
       "      <td>4</td>\n",
       "      <td>4790</td>\n",
       "      <td>0</td>\n",
       "    </tr>\n",
       "  </tbody>\n",
       "</table>\n",
       "<p>8999 rows × 12 columns</p>\n",
       "</div>"
      ],
      "text/plain": [
       "        ID Warehouse_block Mode_of_Shipment  Customer_care_calls  \\\n",
       "0        1               D           Flight                    4   \n",
       "1        2               F           Flight                    4   \n",
       "2        3               A           Flight                    2   \n",
       "3        4               B           Flight                    3   \n",
       "4        5               C           Flight                    2   \n",
       "...    ...             ...              ...                  ...   \n",
       "8994  8995               D             Ship                    3   \n",
       "8995  8996               F             Ship                    5   \n",
       "8996  8997               A             Ship                    4   \n",
       "8997  8998               B             Ship                    4   \n",
       "8998  8999               C             Ship                    5   \n",
       "\n",
       "      Customer_rating  Cost_of_the_Product  Prior_purchases  \\\n",
       "0                   2                  177                3   \n",
       "1                   5                  216                2   \n",
       "2                   2                  183                4   \n",
       "3                   3                  176                4   \n",
       "4                   2                  184                3   \n",
       "...               ...                  ...              ...   \n",
       "8994                1                  217                3   \n",
       "8995                3                  232                3   \n",
       "8996                5                  260                3   \n",
       "8997                2                  184                3   \n",
       "8998                4                  145                4   \n",
       "\n",
       "     Product_importance Gender  Discount_offered  Weight_in_gms  \\\n",
       "0                   low      F                44           1233   \n",
       "1                   low      M                59           3088   \n",
       "2                   low      M                48           3374   \n",
       "3                medium      M                10           1177   \n",
       "4                medium      F                46           2484   \n",
       "...                 ...    ...               ...            ...   \n",
       "8994                low      F                 1           4177   \n",
       "8995             medium      M                 3           4526   \n",
       "8996             medium      F                 6           4221   \n",
       "8997             medium      F                 5           5931   \n",
       "8998                low      M                 4           4790   \n",
       "\n",
       "      Reached.on.Time_Y.N  \n",
       "0                       1  \n",
       "1                       1  \n",
       "2                       1  \n",
       "3                       1  \n",
       "4                       1  \n",
       "...                   ...  \n",
       "8994                    1  \n",
       "8995                    0  \n",
       "8996                    0  \n",
       "8997                    1  \n",
       "8998                    0  \n",
       "\n",
       "[8999 rows x 12 columns]"
      ]
     },
     "execution_count": 50,
     "metadata": {},
     "output_type": "execute_result"
    }
   ],
   "source": [
    "df = pd.read_excel(\"C:/Users/Nico/Desktop/Datathon/E-Commerce_train.xlsx\")\n",
    "df "
   ]
  },
  {
   "cell_type": "markdown",
   "metadata": {},
   "source": [
    "     Verificamos si en el Dataset hay Nulos"
   ]
  },
  {
   "cell_type": "code",
   "execution_count": 51,
   "metadata": {},
   "outputs": [
    {
     "data": {
      "text/plain": [
       "ID                     0\n",
       "Warehouse_block        0\n",
       "Mode_of_Shipment       0\n",
       "Customer_care_calls    0\n",
       "Customer_rating        0\n",
       "Cost_of_the_Product    0\n",
       "Prior_purchases        0\n",
       "Product_importance     0\n",
       "Gender                 0\n",
       "Discount_offered       0\n",
       "Weight_in_gms          0\n",
       "Reached.on.Time_Y.N    0\n",
       "dtype: int64"
      ]
     },
     "execution_count": 51,
     "metadata": {},
     "output_type": "execute_result"
    }
   ],
   "source": [
    "df.isnull().sum()"
   ]
  },
  {
   "cell_type": "markdown",
   "metadata": {},
   "source": [
    "    Observamos las estadísticas del Dataset utilizando \"describe\"."
   ]
  },
  {
   "cell_type": "code",
   "execution_count": 52,
   "metadata": {},
   "outputs": [
    {
     "data": {
      "text/html": [
       "<div>\n",
       "<style scoped>\n",
       "    .dataframe tbody tr th:only-of-type {\n",
       "        vertical-align: middle;\n",
       "    }\n",
       "\n",
       "    .dataframe tbody tr th {\n",
       "        vertical-align: top;\n",
       "    }\n",
       "\n",
       "    .dataframe thead th {\n",
       "        text-align: right;\n",
       "    }\n",
       "</style>\n",
       "<table border=\"1\" class=\"dataframe\">\n",
       "  <thead>\n",
       "    <tr style=\"text-align: right;\">\n",
       "      <th></th>\n",
       "      <th>ID</th>\n",
       "      <th>Customer_care_calls</th>\n",
       "      <th>Customer_rating</th>\n",
       "      <th>Cost_of_the_Product</th>\n",
       "      <th>Prior_purchases</th>\n",
       "      <th>Discount_offered</th>\n",
       "      <th>Weight_in_gms</th>\n",
       "      <th>Reached.on.Time_Y.N</th>\n",
       "    </tr>\n",
       "  </thead>\n",
       "  <tbody>\n",
       "    <tr>\n",
       "      <th>count</th>\n",
       "      <td>8999.00000</td>\n",
       "      <td>8999.000000</td>\n",
       "      <td>8999.000000</td>\n",
       "      <td>8999.000000</td>\n",
       "      <td>8999.000000</td>\n",
       "      <td>8999.000000</td>\n",
       "      <td>8999.000000</td>\n",
       "      <td>8999.000000</td>\n",
       "    </tr>\n",
       "    <tr>\n",
       "      <th>mean</th>\n",
       "      <td>4500.00000</td>\n",
       "      <td>4.015113</td>\n",
       "      <td>2.994999</td>\n",
       "      <td>208.561507</td>\n",
       "      <td>3.511501</td>\n",
       "      <td>15.097678</td>\n",
       "      <td>3584.364596</td>\n",
       "      <td>0.635515</td>\n",
       "    </tr>\n",
       "    <tr>\n",
       "      <th>std</th>\n",
       "      <td>2597.93187</td>\n",
       "      <td>1.138934</td>\n",
       "      <td>1.413143</td>\n",
       "      <td>48.289172</td>\n",
       "      <td>1.532074</td>\n",
       "      <td>17.400040</td>\n",
       "      <td>1614.750194</td>\n",
       "      <td>0.481312</td>\n",
       "    </tr>\n",
       "    <tr>\n",
       "      <th>min</th>\n",
       "      <td>1.00000</td>\n",
       "      <td>2.000000</td>\n",
       "      <td>1.000000</td>\n",
       "      <td>96.000000</td>\n",
       "      <td>2.000000</td>\n",
       "      <td>1.000000</td>\n",
       "      <td>1001.000000</td>\n",
       "      <td>0.000000</td>\n",
       "    </tr>\n",
       "    <tr>\n",
       "      <th>25%</th>\n",
       "      <td>2250.50000</td>\n",
       "      <td>3.000000</td>\n",
       "      <td>2.000000</td>\n",
       "      <td>168.000000</td>\n",
       "      <td>3.000000</td>\n",
       "      <td>4.000000</td>\n",
       "      <td>1857.000000</td>\n",
       "      <td>0.000000</td>\n",
       "    </tr>\n",
       "    <tr>\n",
       "      <th>50%</th>\n",
       "      <td>4500.00000</td>\n",
       "      <td>4.000000</td>\n",
       "      <td>3.000000</td>\n",
       "      <td>211.000000</td>\n",
       "      <td>3.000000</td>\n",
       "      <td>8.000000</td>\n",
       "      <td>4046.000000</td>\n",
       "      <td>1.000000</td>\n",
       "    </tr>\n",
       "    <tr>\n",
       "      <th>75%</th>\n",
       "      <td>6749.50000</td>\n",
       "      <td>5.000000</td>\n",
       "      <td>4.000000</td>\n",
       "      <td>249.500000</td>\n",
       "      <td>4.000000</td>\n",
       "      <td>19.000000</td>\n",
       "      <td>4999.500000</td>\n",
       "      <td>1.000000</td>\n",
       "    </tr>\n",
       "    <tr>\n",
       "      <th>max</th>\n",
       "      <td>8999.00000</td>\n",
       "      <td>7.000000</td>\n",
       "      <td>5.000000</td>\n",
       "      <td>310.000000</td>\n",
       "      <td>10.000000</td>\n",
       "      <td>65.000000</td>\n",
       "      <td>7846.000000</td>\n",
       "      <td>1.000000</td>\n",
       "    </tr>\n",
       "  </tbody>\n",
       "</table>\n",
       "</div>"
      ],
      "text/plain": [
       "               ID  Customer_care_calls  Customer_rating  Cost_of_the_Product  \\\n",
       "count  8999.00000          8999.000000      8999.000000          8999.000000   \n",
       "mean   4500.00000             4.015113         2.994999           208.561507   \n",
       "std    2597.93187             1.138934         1.413143            48.289172   \n",
       "min       1.00000             2.000000         1.000000            96.000000   \n",
       "25%    2250.50000             3.000000         2.000000           168.000000   \n",
       "50%    4500.00000             4.000000         3.000000           211.000000   \n",
       "75%    6749.50000             5.000000         4.000000           249.500000   \n",
       "max    8999.00000             7.000000         5.000000           310.000000   \n",
       "\n",
       "       Prior_purchases  Discount_offered  Weight_in_gms  Reached.on.Time_Y.N  \n",
       "count      8999.000000       8999.000000    8999.000000          8999.000000  \n",
       "mean          3.511501         15.097678    3584.364596             0.635515  \n",
       "std           1.532074         17.400040    1614.750194             0.481312  \n",
       "min           2.000000          1.000000    1001.000000             0.000000  \n",
       "25%           3.000000          4.000000    1857.000000             0.000000  \n",
       "50%           3.000000          8.000000    4046.000000             1.000000  \n",
       "75%           4.000000         19.000000    4999.500000             1.000000  \n",
       "max          10.000000         65.000000    7846.000000             1.000000  "
      ]
     },
     "execution_count": 52,
     "metadata": {},
     "output_type": "execute_result"
    }
   ],
   "source": [
    "df.describe()"
   ]
  },
  {
   "cell_type": "markdown",
   "metadata": {},
   "source": [
    "Se observa que la media de entregas es de %63.55.\n",
    "\n",
    "    Visualizamos cuales son los Valores únicas de 'Reached.on.Time_Y.N'"
   ]
  },
  {
   "cell_type": "code",
   "execution_count": 53,
   "metadata": {},
   "outputs": [
    {
     "data": {
      "text/plain": [
       "array([1, 0], dtype=int64)"
      ]
     },
     "execution_count": 53,
     "metadata": {},
     "output_type": "execute_result"
    }
   ],
   "source": [
    "u = df['Reached.on.Time_Y.N'].unique()\n",
    "u"
   ]
  },
  {
   "cell_type": "markdown",
   "metadata": {},
   "source": [
    "    Ploteamos la cantidad de Entregas realizadas = 1 y las Entregas no Realizadas = 0"
   ]
  },
  {
   "cell_type": "code",
   "execution_count": 54,
   "metadata": {},
   "outputs": [
    {
     "data": {
      "image/png": "[encoded data removed]",
      "text/plain": [
       "<Figure size 432x288 with 1 Axes>"
      ]
     },
     "metadata": {},
     "output_type": "display_data"
    }
   ],
   "source": [
    "fig, ax = plt.subplots()\n",
    "\n",
    "ax.pie(df['Reached.on.Time_Y.N'].value_counts(),autopct='%1.2f%%', startangle=90)\n",
    "plt.legend(u)\n",
    "plt.show()\n"
   ]
  },
  {
   "cell_type": "markdown",
   "metadata": {},
   "source": [
    "    Mediante el plot volvemos a verificar que %63.55 de los envios se realizaron."
   ]
  },
  {
   "cell_type": "markdown",
   "metadata": {},
   "source": [
    "Ahora debemos reducir la dimensionalidad del Sataset. Para ello realizaremos un analisis de correlación de las variables utilizando Heatmap y test chicuad (que se utilizan para interpretar la relacion entre dos variables Categóricas).\n",
    "Realizaremos primero un analisis con Heatmap."
   ]
  },
  {
   "cell_type": "code",
   "execution_count": 56,
   "metadata": {},
   "outputs": [
    {
     "data": {
      "text/plain": [
       "<AxesSubplot:>"
      ]
     },
     "execution_count": 56,
     "metadata": {},
     "output_type": "execute_result"
    },
    {
     "data": {
      "image/png": "[encoded data removed]",
      "text/plain": [
       "<Figure size 432x288 with 2 Axes>"
      ]
     },
     "metadata": {
      "needs_background": "light"
     },
     "output_type": "display_data"
    }
   ],
   "source": [
    "mapcal = df.corr()\n",
    "sns.heatmap(mapcal, cmap=\"Oranges\", annot=True)"
   ]
  },
  {
   "cell_type": "markdown",
   "metadata": {},
   "source": [
    "Se observa que \"ID\", \"Customer_care_calls\", \"Weight_in_gms\" y \"Discount_offered\" tienen correlacion con otras variable por lo cual procedemos a Dropearlas."
   ]
  },
  {
   "cell_type": "code",
   "execution_count": 57,
   "metadata": {},
   "outputs": [],
   "source": [
    "df.drop(['ID'], axis=1, inplace=True)\n",
    "df.drop(['Customer_care_calls'], axis=1, inplace=True)\n",
    "df.drop(['Discount_offered'], axis=1, inplace=True)\n",
    "df.drop(['Weight_in_gms'], axis=1, inplace=True)"
   ]
  },
  {
   "cell_type": "markdown",
   "metadata": {},
   "source": [
    "    Realizamos el test Chicuaq con las Varibles que no utilizamos en la realizacion del Heatmap (Variables Categóricas)\n",
    "\n",
    "Warehouse_block"
   ]
  },
  {
   "cell_type": "code",
   "execution_count": 58,
   "metadata": {},
   "outputs": [
    {
     "name": "stdout",
     "output_type": "stream",
     "text": [
      "Test Chicuad =  0.9071521437355561\n"
     ]
    }
   ],
   "source": [
    "Warehouse = pd.crosstab(df['Warehouse_block'], df['Reached.on.Time_Y.N'])\n",
    "ChiSqResult = chi2_contingency(Warehouse)\n",
    "print(\"Test Chicuad = \",ChiSqResult[1])"
   ]
  },
  {
   "cell_type": "markdown",
   "metadata": {},
   "source": [
    "Gender"
   ]
  },
  {
   "cell_type": "code",
   "execution_count": 59,
   "metadata": {},
   "outputs": [
    {
     "name": "stdout",
     "output_type": "stream",
     "text": [
      "Test Chicuad 0.8015181812471062\n"
     ]
    }
   ],
   "source": [
    "Gender = pd.crosstab(df['Gender'], df['Reached.on.Time_Y.N'])\n",
    "ChiSqResult = chi2_contingency(Gender)\n",
    "print(\"Test Chicuad\",ChiSqResult[1])"
   ]
  },
  {
   "cell_type": "markdown",
   "metadata": {},
   "source": [
    "Product_importance"
   ]
  },
  {
   "cell_type": "code",
   "execution_count": 60,
   "metadata": {},
   "outputs": [
    {
     "name": "stdout",
     "output_type": "stream",
     "text": [
      "Test Chicuad =  0.175738927009453\n"
     ]
    }
   ],
   "source": [
    "Product = pd.crosstab(df['Product_importance'], df['Reached.on.Time_Y.N'])\n",
    "ChiSqResult = chi2_contingency(Product)\n",
    "print(\"Test Chicuad = \",ChiSqResult[1])"
   ]
  },
  {
   "cell_type": "markdown",
   "metadata": {},
   "source": [
    "Mode_of_shipment"
   ]
  },
  {
   "cell_type": "code",
   "execution_count": 61,
   "metadata": {},
   "outputs": [
    {
     "name": "stdout",
     "output_type": "stream",
     "text": [
      "Test Chicuad =  0.2568899601964812\n"
     ]
    }
   ],
   "source": [
    "Mode = pd.crosstab(df['Mode_of_Shipment'], df['Reached.on.Time_Y.N'])\n",
    "ChiSqResult = chi2_contingency(Mode)\n",
    "print(\"Test Chicuad = \",ChiSqResult[1])"
   ]
  },
  {
   "cell_type": "markdown",
   "metadata": {},
   "source": [
    "Una vez obtenidos los valores de los test se observan que las variables no estan relacionadas, por lo tanto Dropeamos las mismas. "
   ]
  },
  {
   "cell_type": "code",
   "execution_count": 62,
   "metadata": {},
   "outputs": [],
   "source": [
    "df.drop(['Product_importance', 'Warehouse_block', 'Mode_of_Shipment', 'Gender'], axis=1, inplace=True)"
   ]
  },
  {
   "cell_type": "markdown",
   "metadata": {},
   "source": [
    "    Volvemos a realizar un Heatmap con las variables a utilizar para nuestro Modelo."
   ]
  },
  {
   "cell_type": "code",
   "execution_count": 63,
   "metadata": {},
   "outputs": [
    {
     "data": {
      "text/plain": [
       "<AxesSubplot:>"
      ]
     },
     "execution_count": 63,
     "metadata": {},
     "output_type": "execute_result"
    },
    {
     "data": {
      "image/png": "[encoded data removed]",
      "text/plain": [
       "<Figure size 432x288 with 2 Axes>"
      ]
     },
     "metadata": {
      "needs_background": "light"
     },
     "output_type": "display_data"
    }
   ],
   "source": [
    "mapcal = df.corr()\n",
    "sns.heatmap(mapcal, cmap=\"Oranges\", annot=True)"
   ]
  },
  {
   "cell_type": "markdown",
   "metadata": {},
   "source": [
    "    Definimos las variables dependientes e independientes del modelo."
   ]
  },
  {
   "cell_type": "code",
   "execution_count": 64,
   "metadata": {},
   "outputs": [],
   "source": [
    "X = df.drop(['Reached.on.Time_Y.N'], axis = 1)\n",
    "y = df['Reached.on.Time_Y.N']"
   ]
  },
  {
   "cell_type": "markdown",
   "metadata": {},
   "source": [
    "    Segmentamos los datos de entrenamiento y prueba del modelo."
   ]
  },
  {
   "cell_type": "code",
   "execution_count": 65,
   "metadata": {},
   "outputs": [],
   "source": [
    "X_train, X_test, y_train, y_test = train_test_split(X,y,test_size=0.3, random_state=46)"
   ]
  },
  {
   "cell_type": "code",
   "execution_count": 66,
   "metadata": {},
   "outputs": [],
   "source": [
    "Sc = MinMaxScaler()\n",
    "X_train = Sc.fit_transform(X_train)\n",
    "X_test = Sc.fit_transform(X_test)"
   ]
  },
  {
   "cell_type": "markdown",
   "metadata": {},
   "source": [
    "    Realizamos la Regresion Logistica.\n",
    "\n",
    "Se instancia al modelo y de lo entrena."
   ]
  },
  {
   "cell_type": "code",
   "execution_count": 67,
   "metadata": {},
   "outputs": [
    {
     "data": {
      "text/html": [
       "<style>#sk-container-id-2 {color: black;background-color: white;}#sk-container-id-2 pre{padding: 0;}#sk-container-id-2 div.sk-toggleable {background-color: white;}#sk-container-id-2 label.sk-toggleable__label {cursor: pointer;display: block;width: 100%;margin-bottom: 0;padding: 0.3em;box-sizing: border-box;text-align: center;}#sk-container-id-2 label.sk-toggleable__label-arrow:before {content: \"▸\";float: left;margin-right: 0.25em;color: #696969;}#sk-container-id-2 label.sk-toggleable__label-arrow:hover:before {color: black;}#sk-container-id-2 div.sk-estimator:hover label.sk-toggleable__label-arrow:before {color: black;}#sk-container-id-2 div.sk-toggleable__content {max-height: 0;max-width: 0;overflow: hidden;text-align: left;background-color: #f0f8ff;}#sk-container-id-2 div.sk-toggleable__content pre {margin: 0.2em;color: black;border-radius: 0.25em;background-color: #f0f8ff;}#sk-container-id-2 input.sk-toggleable__control:checked~div.sk-toggleable__content {max-height: 200px;max-width: 100%;overflow: auto;}#sk-container-id-2 input.sk-toggleable__control:checked~label.sk-toggleable__label-arrow:before {content: \"▾\";}#sk-container-id-2 div.sk-estimator input.sk-toggleable__control:checked~label.sk-toggleable__label {background-color: #d4ebff;}#sk-container-id-2 div.sk-label input.sk-toggleable__control:checked~label.sk-toggleable__label {background-color: #d4ebff;}#sk-container-id-2 input.sk-hidden--visually {border: 0;clip: rect(1px 1px 1px 1px);clip: rect(1px, 1px, 1px, 1px);height: 1px;margin: -1px;overflow: hidden;padding: 0;position: absolute;width: 1px;}#sk-container-id-2 div.sk-estimator {font-family: monospace;background-color: #f0f8ff;border: 1px dotted black;border-radius: 0.25em;box-sizing: border-box;margin-bottom: 0.5em;}#sk-container-id-2 div.sk-estimator:hover {background-color: #d4ebff;}#sk-container-id-2 div.sk-parallel-item::after {content: \"\";width: 100%;border-bottom: 1px solid gray;flex-grow: 1;}#sk-container-id-2 div.sk-label:hover label.sk-toggleable__label {background-color: #d4ebff;}#sk-container-id-2 div.sk-serial::before {content: \"\";position: absolute;border-left: 1px solid gray;box-sizing: border-box;top: 0;bottom: 0;left: 50%;z-index: 0;}#sk-container-id-2 div.sk-serial {display: flex;flex-direction: column;align-items: center;background-color: white;padding-right: 0.2em;padding-left: 0.2em;position: relative;}#sk-container-id-2 div.sk-item {position: relative;z-index: 1;}#sk-container-id-2 div.sk-parallel {display: flex;align-items: stretch;justify-content: center;background-color: white;position: relative;}#sk-container-id-2 div.sk-item::before, #sk-container-id-2 div.sk-parallel-item::before {content: \"\";position: absolute;border-left: 1px solid gray;box-sizing: border-box;top: 0;bottom: 0;left: 50%;z-index: -1;}#sk-container-id-2 div.sk-parallel-item {display: flex;flex-direction: column;z-index: 1;position: relative;background-color: white;}#sk-container-id-2 div.sk-parallel-item:first-child::after {align-self: flex-end;width: 50%;}#sk-container-id-2 div.sk-parallel-item:last-child::after {align-self: flex-start;width: 50%;}#sk-container-id-2 div.sk-parallel-item:only-child::after {width: 0;}#sk-container-id-2 div.sk-dashed-wrapped {border: 1px dashed gray;margin: 0 0.4em 0.5em 0.4em;box-sizing: border-box;padding-bottom: 0.4em;background-color: white;}#sk-container-id-2 div.sk-label label {font-family: monospace;font-weight: bold;display: inline-block;line-height: 1.2em;}#sk-container-id-2 div.sk-label-container {text-align: center;}#sk-container-id-2 div.sk-container {/* jupyter's `normalize.less` sets `[hidden] { display: none; }` but bootstrap.min.css set `[hidden] { display: none !important; }` so we also need the `!important` here to be able to override the default hidden behavior on the sphinx rendered scikit-learn.org. See: https://github.com/scikit-learn/scikit-learn/issues/21755 */display: inline-block !important;position: relative;}#sk-container-id-2 div.sk-text-repr-fallback {display: none;}</style><div id=\"sk-container-id-2\" class=\"sk-top-container\"><div class=\"sk-text-repr-fallback\"><pre>LogisticRegression()</pre><b>In a Jupyter environment, please rerun this cell to show the HTML representation or trust the notebook. <br />On GitHub, the HTML representation is unable to render, please try loading this page with nbviewer.org.</b></div><div class=\"sk-container\" hidden><div class=\"sk-item\"><div class=\"sk-estimator sk-toggleable\"><input class=\"sk-toggleable__control sk-hidden--visually\" id=\"sk-estimator-id-2\" type=\"checkbox\" checked><label for=\"sk-estimator-id-2\" class=\"sk-toggleable__label sk-toggleable__label-arrow\">LogisticRegression</label><div class=\"sk-toggleable__content\"><pre>LogisticRegression()</pre></div></div></div></div></div>"
      ],
      "text/plain": [
       "LogisticRegression()"
      ]
     },
     "execution_count": 67,
     "metadata": {},
     "output_type": "execute_result"
    }
   ],
   "source": [
    "from sklearn.linear_model import LogisticRegression\n",
    "clf = LogisticRegression()\n",
    "clf.fit(X,y)"
   ]
  },
  {
   "cell_type": "markdown",
   "metadata": {},
   "source": [
    "    Realizamos la Predicción.\n",
    "\n",
    "Y se evalua."
   ]
  },
  {
   "cell_type": "code",
   "execution_count": 68,
   "metadata": {},
   "outputs": [
    {
     "name": "stdout",
     "output_type": "stream",
     "text": [
      "El score del modelo accuracy_score es: 0.6352928103122569\n"
     ]
    }
   ],
   "source": [
    "from sklearn.metrics import accuracy_score \n",
    "y_pred = clf.predict(X)\n",
    "print('El score del modelo accuracy_score es:', accuracy_score(y, y_pred))"
   ]
  },
  {
   "cell_type": "code",
   "execution_count": 69,
   "metadata": {},
   "outputs": [
    {
     "name": "stdout",
     "output_type": "stream",
     "text": [
      "El score del modelo recall_score es: 0.9986011540479105\n"
     ]
    }
   ],
   "source": [
    "from sklearn.metrics import recall_score\n",
    "print('El score del modelo recall_score es:', recall_score(y, y_pred))\n"
   ]
  },
  {
   "cell_type": "markdown",
   "metadata": {},
   "source": [
    "    Ingestamos el Dataset de Prueba\n",
    "\n",
    "Luego eliminamos las Variables que sacamos del Dataset de Entrenamiento para obtener las Variables que nos interesan para predecir el Modelo."
   ]
  },
  {
   "cell_type": "code",
   "execution_count": 70,
   "metadata": {},
   "outputs": [
    {
     "data": {
      "text/html": [
       "<div>\n",
       "<style scoped>\n",
       "    .dataframe tbody tr th:only-of-type {\n",
       "        vertical-align: middle;\n",
       "    }\n",
       "\n",
       "    .dataframe tbody tr th {\n",
       "        vertical-align: top;\n",
       "    }\n",
       "\n",
       "    .dataframe thead th {\n",
       "        text-align: right;\n",
       "    }\n",
       "</style>\n",
       "<table border=\"1\" class=\"dataframe\">\n",
       "  <thead>\n",
       "    <tr style=\"text-align: right;\">\n",
       "      <th></th>\n",
       "      <th>ID</th>\n",
       "      <th>Warehouse_block</th>\n",
       "      <th>Mode_of_Shipment</th>\n",
       "      <th>Customer_care_calls</th>\n",
       "      <th>Customer_rating</th>\n",
       "      <th>Cost_of_the_Product</th>\n",
       "      <th>Prior_purchases</th>\n",
       "      <th>Product_importance</th>\n",
       "      <th>Gender</th>\n",
       "      <th>Discount_offered</th>\n",
       "      <th>Weight_in_gms</th>\n",
       "    </tr>\n",
       "  </thead>\n",
       "  <tbody>\n",
       "    <tr>\n",
       "      <th>0</th>\n",
       "      <td>9000</td>\n",
       "      <td>F</td>\n",
       "      <td>Ship</td>\n",
       "      <td>5</td>\n",
       "      <td>1</td>\n",
       "      <td>189</td>\n",
       "      <td>2</td>\n",
       "      <td>medium</td>\n",
       "      <td>M</td>\n",
       "      <td>10</td>\n",
       "      <td>5248</td>\n",
       "    </tr>\n",
       "    <tr>\n",
       "      <th>1</th>\n",
       "      <td>9001</td>\n",
       "      <td>D</td>\n",
       "      <td>Ship</td>\n",
       "      <td>5</td>\n",
       "      <td>3</td>\n",
       "      <td>150</td>\n",
       "      <td>2</td>\n",
       "      <td>high</td>\n",
       "      <td>F</td>\n",
       "      <td>9</td>\n",
       "      <td>4446</td>\n",
       "    </tr>\n",
       "    <tr>\n",
       "      <th>2</th>\n",
       "      <td>9002</td>\n",
       "      <td>F</td>\n",
       "      <td>Ship</td>\n",
       "      <td>3</td>\n",
       "      <td>3</td>\n",
       "      <td>200</td>\n",
       "      <td>3</td>\n",
       "      <td>low</td>\n",
       "      <td>M</td>\n",
       "      <td>3</td>\n",
       "      <td>5739</td>\n",
       "    </tr>\n",
       "    <tr>\n",
       "      <th>3</th>\n",
       "      <td>9003</td>\n",
       "      <td>A</td>\n",
       "      <td>Ship</td>\n",
       "      <td>5</td>\n",
       "      <td>1</td>\n",
       "      <td>133</td>\n",
       "      <td>2</td>\n",
       "      <td>medium</td>\n",
       "      <td>M</td>\n",
       "      <td>1</td>\n",
       "      <td>4643</td>\n",
       "    </tr>\n",
       "    <tr>\n",
       "      <th>4</th>\n",
       "      <td>9004</td>\n",
       "      <td>B</td>\n",
       "      <td>Ship</td>\n",
       "      <td>4</td>\n",
       "      <td>2</td>\n",
       "      <td>260</td>\n",
       "      <td>3</td>\n",
       "      <td>low</td>\n",
       "      <td>M</td>\n",
       "      <td>4</td>\n",
       "      <td>5504</td>\n",
       "    </tr>\n",
       "    <tr>\n",
       "      <th>...</th>\n",
       "      <td>...</td>\n",
       "      <td>...</td>\n",
       "      <td>...</td>\n",
       "      <td>...</td>\n",
       "      <td>...</td>\n",
       "      <td>...</td>\n",
       "      <td>...</td>\n",
       "      <td>...</td>\n",
       "      <td>...</td>\n",
       "      <td>...</td>\n",
       "      <td>...</td>\n",
       "    </tr>\n",
       "    <tr>\n",
       "      <th>1995</th>\n",
       "      <td>10995</td>\n",
       "      <td>A</td>\n",
       "      <td>Ship</td>\n",
       "      <td>4</td>\n",
       "      <td>1</td>\n",
       "      <td>252</td>\n",
       "      <td>5</td>\n",
       "      <td>medium</td>\n",
       "      <td>F</td>\n",
       "      <td>1</td>\n",
       "      <td>1538</td>\n",
       "    </tr>\n",
       "    <tr>\n",
       "      <th>1996</th>\n",
       "      <td>10996</td>\n",
       "      <td>B</td>\n",
       "      <td>Ship</td>\n",
       "      <td>4</td>\n",
       "      <td>1</td>\n",
       "      <td>232</td>\n",
       "      <td>5</td>\n",
       "      <td>medium</td>\n",
       "      <td>F</td>\n",
       "      <td>6</td>\n",
       "      <td>1247</td>\n",
       "    </tr>\n",
       "    <tr>\n",
       "      <th>1997</th>\n",
       "      <td>10997</td>\n",
       "      <td>C</td>\n",
       "      <td>Ship</td>\n",
       "      <td>5</td>\n",
       "      <td>4</td>\n",
       "      <td>242</td>\n",
       "      <td>5</td>\n",
       "      <td>low</td>\n",
       "      <td>F</td>\n",
       "      <td>4</td>\n",
       "      <td>1155</td>\n",
       "    </tr>\n",
       "    <tr>\n",
       "      <th>1998</th>\n",
       "      <td>10998</td>\n",
       "      <td>F</td>\n",
       "      <td>Ship</td>\n",
       "      <td>5</td>\n",
       "      <td>2</td>\n",
       "      <td>223</td>\n",
       "      <td>6</td>\n",
       "      <td>medium</td>\n",
       "      <td>M</td>\n",
       "      <td>2</td>\n",
       "      <td>1210</td>\n",
       "    </tr>\n",
       "    <tr>\n",
       "      <th>1999</th>\n",
       "      <td>10999</td>\n",
       "      <td>D</td>\n",
       "      <td>Ship</td>\n",
       "      <td>2</td>\n",
       "      <td>5</td>\n",
       "      <td>155</td>\n",
       "      <td>5</td>\n",
       "      <td>low</td>\n",
       "      <td>F</td>\n",
       "      <td>6</td>\n",
       "      <td>1639</td>\n",
       "    </tr>\n",
       "  </tbody>\n",
       "</table>\n",
       "<p>2000 rows × 11 columns</p>\n",
       "</div>"
      ],
      "text/plain": [
       "         ID Warehouse_block Mode_of_Shipment  Customer_care_calls  \\\n",
       "0      9000               F             Ship                    5   \n",
       "1      9001               D             Ship                    5   \n",
       "2      9002               F             Ship                    3   \n",
       "3      9003               A             Ship                    5   \n",
       "4      9004               B             Ship                    4   \n",
       "...     ...             ...              ...                  ...   \n",
       "1995  10995               A             Ship                    4   \n",
       "1996  10996               B             Ship                    4   \n",
       "1997  10997               C             Ship                    5   \n",
       "1998  10998               F             Ship                    5   \n",
       "1999  10999               D             Ship                    2   \n",
       "\n",
       "      Customer_rating  Cost_of_the_Product  Prior_purchases  \\\n",
       "0                   1                  189                2   \n",
       "1                   3                  150                2   \n",
       "2                   3                  200                3   \n",
       "3                   1                  133                2   \n",
       "4                   2                  260                3   \n",
       "...               ...                  ...              ...   \n",
       "1995                1                  252                5   \n",
       "1996                1                  232                5   \n",
       "1997                4                  242                5   \n",
       "1998                2                  223                6   \n",
       "1999                5                  155                5   \n",
       "\n",
       "     Product_importance Gender  Discount_offered  Weight_in_gms  \n",
       "0                medium      M                10           5248  \n",
       "1                  high      F                 9           4446  \n",
       "2                   low      M                 3           5739  \n",
       "3                medium      M                 1           4643  \n",
       "4                   low      M                 4           5504  \n",
       "...                 ...    ...               ...            ...  \n",
       "1995             medium      F                 1           1538  \n",
       "1996             medium      F                 6           1247  \n",
       "1997                low      F                 4           1155  \n",
       "1998             medium      M                 2           1210  \n",
       "1999                low      F                 6           1639  \n",
       "\n",
       "[2000 rows x 11 columns]"
      ]
     },
     "execution_count": 70,
     "metadata": {},
     "output_type": "execute_result"
    }
   ],
   "source": [
    "prueba = pd.read_excel(\"C:/Users/Nico/Desktop/Datathon/E-Commerce_test.xlsx\")\n",
    "prueba"
   ]
  },
  {
   "cell_type": "code",
   "execution_count": 71,
   "metadata": {},
   "outputs": [],
   "source": [
    "X2 = prueba.drop(['ID', 'Warehouse_block','Mode_of_Shipment', 'Customer_care_calls',  'Product_importance', 'Gender', 'Discount_offered', 'Weight_in_gms' ], axis = 1)"
   ]
  },
  {
   "cell_type": "markdown",
   "metadata": {},
   "source": [
    "    Evaluamos el modelo."
   ]
  },
  {
   "cell_type": "code",
   "execution_count": 72,
   "metadata": {},
   "outputs": [],
   "source": [
    "y2_pred = clf.predict(X2)"
   ]
  },
  {
   "cell_type": "markdown",
   "metadata": {},
   "source": [
    "    Creamos el csv para la evaluacion de los resultados en el Datathon"
   ]
  },
  {
   "cell_type": "code",
   "execution_count": 74,
   "metadata": {},
   "outputs": [],
   "source": [
    "Nico96=pd.DataFrame(y2_pred)\n",
    "Nico96.columns=['pred']\n",
    "Nico96.to_csv(\"Nico-96.csv\", index = False)"
   ]
  }
 ],
 "metadata": {
  "kernelspec": {
   "display_name": "Python 3.10.7 64-bit",
   "language": "python",
   "name": "python3"
  },
  "language_info": {
   "codemirror_mode": {
    "name": "ipython",
    "version": 3
   },
   "file_extension": ".py",
   "mimetype": "text/x-python",
   "name": "python",
   "nbconvert_exporter": "python",
   "pygments_lexer": "ipython3",
   "version": "3.10.7"
  },
  "orig_nbformat": 4,
  "vscode": {
   "interpreter": {
    "hash": "89e0abca33cf4a51fed40e84035a9d07b9b47798c9ddd5755346d755ba15d037"
   }
  }
 },
 "nbformat": 4,
 "nbformat_minor": 2
}
